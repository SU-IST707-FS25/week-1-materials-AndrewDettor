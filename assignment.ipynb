{
 "cells": [
  {
   "cell_type": "markdown",
   "id": "dc887371",
   "metadata": {
    "problem_id": "ex1"
   },
   "source": [
    "<!-- @q -->\n",
    "## Problem 1 \n",
    "\n",
    "Using the data in the `2019_Yellow_Taxi_Trip_Data.csv` file, calculate summary statistics for the `fare_amount`, `tip_amount`, `tolls_amount`, and `total_amount` columns:"
   ]
  },
  {
   "cell_type": "code",
   "execution_count": 1,
   "id": "6b54e057",
   "metadata": {
    "part_id": "ex1-part1",
    "span": "ex1-part1.code",
    "student": true
   },
   "outputs": [],
   "source": [
    "# Your code here\n"
   ]
  },
  {
   "cell_type": "markdown",
   "id": "074b0a7e",
   "metadata": {
    "problem_id": "ex2"
   },
   "source": [
    "<!-- @q -->\n",
    "## Problem 2\n",
    "\n",
    "Isolate the `fare_amount`, `tip_amount`, `tolls_amount`, and `total_amount` for the longest trip by distance (`trip_distance`):"
   ]
  },
  {
   "cell_type": "code",
   "execution_count": null,
   "id": "fe9dd73b",
   "metadata": {
    "part_id": "ex2-part1",
    "span": "ex2-part1.code",
    "student": true
   },
   "outputs": [],
   "source": [
    "# Your code here\n"
   ]
  },
  {
   "cell_type": "markdown",
   "id": "2f864b6c",
   "metadata": {
    "problem_id": "ex3"
   },
   "source": [
    "<!-- @q -->\n",
    "## Problem 3 \n",
    "\n",
    "Read in the meteorite data from the `Meteorite_Landings.csv` file, rename the `mass (g)` column to `mass`, and drop all the latitude and longitude columns. Sort the result by mass in descending order."
   ]
  },
  {
   "cell_type": "code",
   "execution_count": null,
   "id": "88c65a35",
   "metadata": {
    "part_id": "ex3-part1",
    "span": "ex3-part1.code",
    "student": true
   },
   "outputs": [],
   "source": [
    "# Your code here\n"
   ]
  },
  {
   "cell_type": "markdown",
   "id": "b04126be",
   "metadata": {
    "problem_id": "ex4"
   },
   "source": [
    "<!-- @q -->\n",
    "## Problem 4\n",
    "\n",
    "Using the meteorite data from the `Meteorite_Landings.csv` file, update the `year` column to only contain the year, convert it to a numeric data type, and create a new column indicating whether the meteorite was observed falling before 1970. Set the index to the `id` column and extract all the rows with IDs between 10,036 and 10,040 (inclusive) with `loc[]`.\n",
    "\n",
    "**Hint 1**: Use `year.str.slice()` to grab a substring.\n",
    "\n",
    "**Hint 2**: Make sure to sort the index before using `loc[]` to select the range."
   ]
  },
  {
   "cell_type": "code",
   "execution_count": null,
   "id": "815bb531",
   "metadata": {
    "part_id": "ex4-part1",
    "span": "ex4-part1.code",
    "student": true
   },
   "outputs": [],
   "source": [
    "# Your code here\n"
   ]
  },
  {
   "cell_type": "markdown",
   "id": "b08b3aeb",
   "metadata": {
    "part_id": "ex4-part2"
   },
   "source": [
    "**BONUS**: There's a data entry error in the `year` column. Can you find it?"
   ]
  },
  {
   "cell_type": "code",
   "execution_count": null,
   "id": "2836a110",
   "metadata": {
    "additional_cells_expected": true,
    "part_id": "ex4-part2",
    "span": "ex4-part2.code",
    "student": true
   },
   "outputs": [],
   "source": [
    "# Your code here\n"
   ]
  },
  {
   "cell_type": "markdown",
   "id": "b0ab2e51-a49d-486e-ad09-aaa39f0d4358",
   "metadata": {
    "slideshow": {
     "slide_type": "fragment"
    },
    "tags": []
   },
   "source": [
    "There's a meteorite that was reportedly found in the future:"
   ]
  },
  {
   "cell_type": "code",
   "execution_count": null,
   "id": "a58fc7c5",
   "metadata": {
    "additional_cells_expected": true,
    "part_id": "ex4-part2",
    "span": "ex4-part2.code",
    "student": true
   },
   "outputs": [],
   "source": [
    "# Your code here\n"
   ]
  },
  {
   "cell_type": "markdown",
   "id": "10b3e913-e6d0-4b61-928e-da3eca59b08d",
   "metadata": {},
   "source": [
    "_This meteorite actually was found in 2010 (more information [here](https://www.lpi.usra.edu/meteor/metbull.php?code=57150))._"
   ]
  },
  {
   "cell_type": "markdown",
   "id": "54b9ba34",
   "metadata": {
    "problem_id": "ex5"
   },
   "source": [
    "<!-- @q -->\n",
    "## Problem 5\n",
    "\n",
    "Using the taxi trip data in the `2019_Yellow_Taxi_Trip_Data.csv` file, resample the data to an hourly frequency based on the dropoff time. Calculate the total `trip_distance`, `fare_amount`, `tolls_amount`, and `tip_amount`, then find the 5 hours with the most tips."
   ]
  },
  {
   "cell_type": "code",
   "execution_count": null,
   "id": "bb9b3d0a",
   "metadata": {
    "part_id": "ex5-part1",
    "span": "ex5-part1.code",
    "student": true
   },
   "outputs": [],
   "source": [
    "# Your code here\n"
   ]
  },
  {
   "cell_type": "markdown",
   "id": "7a62e834",
   "metadata": {
    "problem_id": "ex6"
   },
   "source": [
    "<!-- @q -->\n",
    "## Problem 6\n",
    "\n",
    "Using the TSA traveler throughput data in the `tsa_melted_holiday_travel.csv` file, create box plots for traveler throughput for each year in the data. Hint: Pass `kind='box'` into the `plot()` method to generate box plots."
   ]
  },
  {
   "cell_type": "code",
   "execution_count": null,
   "id": "0fc05a66",
   "metadata": {
    "part_id": "ex6-part1",
    "span": "ex6-part1.code",
    "student": true
   },
   "outputs": [],
   "source": [
    "# Your code here\n"
   ]
  },
  {
   "cell_type": "markdown",
   "id": "9efbc536",
   "metadata": {
    "problem_id": "ex7"
   },
   "source": [
    "<!-- @q -->\n",
    "## Problem 7\n",
    "Using the TSA traveler throughput data in the `tsa_melted_holiday_travel.csv` file, create a heatmap that shows the 2019 TSA median traveler throughput by day of week and month."
   ]
  },
  {
   "cell_type": "code",
   "execution_count": null,
   "id": "e4a3a1fd",
   "metadata": {
    "part_id": "ex7-part1",
    "span": "ex7-part1.code",
    "student": true
   },
   "outputs": [],
   "source": [
    "# Your code here\n"
   ]
  }
 ],
 "metadata": {
  "kernelspec": {
   "display_name": "Python 3",
   "language": "python",
   "name": "python3"
  },
  "language_info": {
   "codemirror_mode": {
    "name": "ipython",
    "version": 3
   },
   "file_extension": ".py",
   "mimetype": "text/x-python",
   "name": "python",
   "nbconvert_exporter": "python",
   "pygments_lexer": "ipython3",
   "version": "3.12.1"
  }
 },
 "nbformat": 4,
 "nbformat_minor": 5
}
